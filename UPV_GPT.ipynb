{
 "cells": [
  {
   "cell_type": "code",
   "execution_count": 1,
   "metadata": {},
   "outputs": [
    {
     "name": "stdout",
     "output_type": "stream",
     "text": [
      "Loaded UPV dataset from UPV_allURLs.csv\n",
      "Loading html files...\n",
      "Removing rows without html: [6668]\n"
     ]
    },
    {
     "data": {
      "application/vnd.jupyter.widget-view+json": {
       "model_id": "b2c19bb78a9542c8a8f211ff58817b39",
       "version_major": 2,
       "version_minor": 0
      },
      "text/plain": [
       "Extracting articles from HTML:   0%|          | 0/408 [00:00<?, ?it/s]"
      ]
     },
     "metadata": {},
     "output_type": "display_data"
    },
    {
     "data": {
      "text/plain": [
       "Index(['Medio', 'Título desmentido', 'URL', 'Titular enlazado',\n",
       "       '¿Periodo de campaña?', '¿Qué campaña?', '¿Campaña?', 'Único',\n",
       "       'Duplicado misma campaña', 'Corpus', 'Numeración duplicados',\n",
       "       'ID Corpus', 'ID ALE', '1. Espacio', '2. Texto', '3. Multimedia',\n",
       "       '4. Elemento desinformador', '5.  Tipo multimedia',\n",
       "       '6. Alteración multimedia', '7. Cuenta emisora', '8. Fuente',\n",
       "       '9. Protagonista', '10. Atributo', '11. Macro tema', '12. Populismo',\n",
       "       '13. Ataque', '14. Tipo de ataque', '5.  Tipo multimedia reduced',\n",
       "       '7. Cuenta emisora reduced', '9. Protagonista reduced',\n",
       "       '14. Tipo de ataque reduced', 'html', 'article', 'text'],\n",
       "      dtype='object')"
      ]
     },
     "execution_count": 1,
     "metadata": {},
     "output_type": "execute_result"
    }
   ],
   "source": [
    "%load_ext dotenv\n",
    "%dotenv\n",
    "import os\n",
    "from openai import OpenAI, AsyncOpenAI\n",
    "from ratelimit import limits, sleep_and_retry\n",
    "from hamison_datasets.UPV.load_upv import load_upv_dataset\n",
    "\n",
    "\n",
    "upv = load_upv_dataset()\n",
    "\n",
    "client = AsyncOpenAI(api_key=os.getenv(\"OPENAI_API_KEY\"))\n",
    "# client = AsyncOpenAI(api_key=os.getenv(\"OPENAI_API_KEY_J\"))\n",
    "# client = AsyncOpenAI(api_key=os.getenv(\"OPENAI_API_KEY_ET\"))\n",
    "\n",
    "ONE_MINUTE = 125\n",
    "model = \"gpt-4o-mini\"\n",
    "\n",
    "\n",
    "@sleep_and_retry\n",
    "@limits(calls=1, period=ONE_MINUTE)\n",
    "async def call_api(client, prompt, text, model=model):\n",
    "    completion = await client.chat.completions.create(\n",
    "        model=model,\n",
    "        messages=[\n",
    "            {\"role\": \"system\", \"content\": prompt},\n",
    "            {\"role\": \"user\",   \"content\": text}\n",
    "        ]\n",
    "    )\n",
    "\n",
    "    return completion.choices[0].message.content\n",
    "\n",
    "\n",
    "upv.columns"
   ]
  },
  {
   "cell_type": "code",
   "execution_count": 2,
   "metadata": {},
   "outputs": [],
   "source": [
    "output_fname = f'results_{model}_11-12.json'\n",
    "\n",
    "labels_11 = upv['11. Macro tema']\n",
    "labels_11_count = labels_11.value_counts().to_json()\n",
    "labels_11_count_norm = labels_11.value_counts(\n",
    "    normalize=True).to_string(header=False)\n",
    "\n",
    "labels_12 = upv['12. Populismo']\n",
    "labels_12_count = labels_12.value_counts().to_json()\n",
    "labels_12_count_norm = labels_12.value_counts(\n",
    "    normalize=True).to_string(header=False)\n",
    "\n",
    "\n",
    "prompt = f\"\"\"You are a journalist, expert in Spanish politics and media. You will be presented with an article from a fact-checking website. Your task is to classify the article along two variables: THEME and POPULIST STRATEGY. For each dimension, please choose only one of the given classes. To help you choose, next to each class I provide its normalized count.\n",
    "\n",
    "For the THEME variable, the classes are:\n",
    "\"\"\" + rf\"<classes>{labels_11_count_norm}<\\classes>\"\"\" + \"\"\"\n",
    "\n",
    "For the POPULIST STRATEGY variable, the classes are:\n",
    "\"\"\" + rf\"<classes>\\n{labels_12_count_norm}<\\classes>\"\"\" + '''\n",
    "\n",
    "Output the chosen classes and your reasoning for each choice in JSON format:\n",
    "{\n",
    "\"theme\": chosen class for the THEME variable (string), \n",
    "\"theme_reasoning\": explanation for your choice of class for the THEME variable (string), \n",
    "\"populist_strategy\": chosen class for the POPULIST STRATEGY variable (string),\n",
    "\"populist_strategy_reasoning\": explanation for your choice of class for the POPULIST STRATEGY variable (string)\n",
    "}.'''\n",
    "\n",
    "# print(prompt)"
   ]
  },
  {
   "cell_type": "code",
   "execution_count": 3,
   "metadata": {},
   "outputs": [
    {
     "name": "stdout",
     "output_type": "stream",
     "text": [
      "Prompting with article 5890: OK\n",
      "Prompting with article 5891: OK\n",
      "Prompting with article 6323: OK\n",
      "Prompting with article 6326: OK\n",
      "Prompting with article 6327: OK\n",
      "Prompting with article 6334: OK\n",
      "Prompting with article 6335: OK\n",
      "Prompting with article 6336: OK\n",
      "Prompting with article 6337: OK\n",
      "Prompting with article 6338: OK\n",
      "Prompting with article 6345: OK\n",
      "Prompting with article 6354: OK\n",
      "Prompting with article 6355: OK\n",
      "Prompting with article 6358: OK\n",
      "Prompting with article 6360: OK\n",
      "Prompting with article 6364: OK\n",
      "Prompting with article 6367: OK\n"
     ]
    }
   ],
   "source": [
    "import json\n",
    "\n",
    "# try-except:\n",
    "with open(output_fname, 'r+') as output_sofar:\n",
    "    preds = json.load(output_sofar)\n",
    "    seen_indices = [record['ID_Medio_Crono'] for record in preds]\n",
    "\n",
    "for idx, article in upv.iterrows():\n",
    "    if idx in seen_indices:\n",
    "        continue\n",
    "    else:\n",
    "        print(f'Prompting with article {idx}:', end=' ')\n",
    "\n",
    "    text = article.text\n",
    "    # print(idx, text[:90])\n",
    "    try:\n",
    "        req = await call_api(client, prompt, text)\n",
    "        req = req.replace(\"```\", \"\").removeprefix(\"json\\n\")\n",
    "        record = {upv.index.name: idx}\n",
    "        record.update(json.loads(req))\n",
    "        preds.append(record)\n",
    "        with open(output_fname, 'w+') as output_f:\n",
    "            json.dump(preds, output_f, indent=4)\n",
    "        print('OK')\n",
    "    except Exception as e:\n",
    "        print(f'Error')\n",
    "        print(e)\n",
    "        print('Last record:', record)\n",
    "        break"
   ]
  },
  {
   "cell_type": "code",
   "execution_count": null,
   "metadata": {},
   "outputs": [],
   "source": [
    "# two-step classification prompt\n",
    "output_fname = f'results_{model}_13-14.json'\n",
    "\n",
    "labels_13 = upv['13. Ataque']\n",
    "labels_13_count = labels_13.value_counts().to_json()\n",
    "labels_13_count_norm = labels_13.value_counts(\n",
    "    normalize=True).to_string(header=False)\n",
    "\n",
    "labels_14 = upv['14. Tipo de ataque']\n",
    "labels_14_count = labels_14.value_counts().to_json()\n",
    "labels_14_count_norm = labels_14.value_counts(\n",
    "    normalize=True).to_string(header=False)\n",
    "\n",
    "\n",
    "prompt = f\"\"\"You are a journalist, expert in Spanish politics and media. You will be presented with an article from a fact-checking website. Your task is to classify the article along two variables, ATTACK and TYPE OF ATTACK. The variables are related, so you will do this in two steps.\n",
    "\n",
    "First, decide whether the article describes a verbal ATTACK. The possible answers are:\n",
    "\"\"\" + rf\"<classes>{labels_13_count_norm}<\\classes>\"\"\" + \"\"\"\n",
    "\n",
    "If you decided that there was an attack, please pick the TYPE OF ATTACK from one of the classes below. If you decided that there was no attack, please choose the class \"Sin ataque\":\n",
    "\"\"\" + rf\"<classes>\\n{labels_14_count_norm}<\\classes>\"\"\" + '''\n",
    "\n",
    "Output the chosen classes and your reasoning for each choice in JSON format:\n",
    "{\n",
    "\"attack\": chosen class for the ATTACK variable (string), \n",
    "\"attack_reasoning\": explanation for your choice of class for the ATTACK variable (string), \n",
    "\"type_of_attack\": chosen class for the TYPE OF ATTACK variable (string),\n",
    "\"type_of_attack_reasoning\": explanation for your choice of class for the TYPE OF ATTACK variable (string)\n",
    "}.'''\n",
    "\n",
    "print(prompt)"
   ]
  },
  {
   "cell_type": "code",
   "execution_count": 2,
   "metadata": {},
   "outputs": [],
   "source": [
    "output_fname = f'results_{model}_9.json'\n",
    "labels = upv['9. Protagonista']\n",
    "labels_count = labels.value_counts().to_json()\n",
    "labels_count_norm = labels.value_counts(normalize=True).to_json()\n",
    "\n",
    "prompt = \"\"\"You are a journalist, expert in Spanish politics and media. You will be presented with an article from a fact-checking website and your job is to choose to which class its PROTAGONIST belongs to. Please choose one class ONLY from the list below and output the chosen class and your reasoning in json format. To help you choose, the list of classes also contains the normalized count of each class. The resulting JSON object should have this format: {\"prediction\": chosen class (string), \"reasoning\": explanation (string)}. The list of classes you can choose from:\"\"\"\n",
    "prompt = prompt + rf\"\\n<classes>\\n{labels_count_norm}\\n<\\classes>\"\"\""
   ]
  },
  {
   "cell_type": "code",
   "execution_count": null,
   "metadata": {},
   "outputs": [],
   "source": [
    "dir(completion)\n",
    "dir(completion.choices[0].message)"
   ]
  },
  {
   "cell_type": "code",
   "execution_count": null,
   "metadata": {},
   "outputs": [],
   "source": [
    "# clean input text\n",
    "import re\n",
    "\n",
    "pat = r'\\n\\n\\n+'\n",
    "article_items = re.split(pat, article.text)\n",
    "article_items.sort(key=len, reverse=True)"
   ]
  }
 ],
 "metadata": {
  "kernelspec": {
   "display_name": "HAMiSoN",
   "language": "python",
   "name": "python3"
  },
  "language_info": {
   "codemirror_mode": {
    "name": "ipython",
    "version": 3
   },
   "file_extension": ".py",
   "mimetype": "text/x-python",
   "name": "python",
   "nbconvert_exporter": "python",
   "pygments_lexer": "ipython3",
   "version": "3.12.4"
  }
 },
 "nbformat": 4,
 "nbformat_minor": 2
}
